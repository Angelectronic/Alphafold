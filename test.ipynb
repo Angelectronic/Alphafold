{
 "cells": [
  {
   "cell_type": "code",
   "execution_count": null,
   "metadata": {},
   "outputs": [],
   "source": [
    "import numpy as np\n",
    "import tensorflow as tf\n",
    "\n",
    "# make a (326, 384) array\n",
    "a = np.arange(326*384).reshape(326, 384)\n",
    "\n",
    "linear = tf.keras.layers.Dense(1, input_shape=(326, 384))\n"
   ]
  }
 ],
 "metadata": {
  "language_info": {
   "name": "python"
  },
  "orig_nbformat": 4
 },
 "nbformat": 4,
 "nbformat_minor": 2
}
